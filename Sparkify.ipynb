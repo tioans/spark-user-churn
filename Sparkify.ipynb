{
 "cells": [
  {
   "cell_type": "markdown",
   "metadata": {},
   "source": [
    "# Sparkify Project Workspace\n",
    "This workspace contains a tiny subset (128MB) of the full dataset available (12GB). Feel free to use this workspace to build your project, or to explore a smaller subset with Spark before deploying your cluster on the cloud. Instructions for setting up your Spark cluster is included in the last lesson of the Extracurricular Spark Course content.\n",
    "\n",
    "You can follow the steps below to guide your data analysis and model building portion of this project."
   ]
  },
  {
   "cell_type": "code",
   "execution_count": 1,
   "metadata": {},
   "outputs": [],
   "source": [
    "# import libraries\n",
    "import datetime\n",
    "import pandas as pd\n",
    "import numpy as np\n",
    "import seaborn as sns\n",
    "import matplotlib.pyplot as plt\n",
    "\n",
    "from pyspark.sql import SparkSession\n",
    "\n",
    "from pyspark.sql.types import IntegerType, BooleanType, DateType\n",
    "from pyspark.sql.functions import udf, concat, col, lit, avg, stddev, count, desc\n",
    "from pyspark.sql.window import Window\n",
    "from pyspark.sql import functions as F\n",
    "\n",
    "from pyspark.ml import Pipeline\n",
    "from pyspark.ml.feature import VectorAssembler, StandardScaler\n",
    "from pyspark.ml.tuning import CrossValidator, ParamGridBuilder\n",
    "from pyspark.ml.classification import LogisticRegression, GBTClassifier, MultilayerPerceptronClassifier \n",
    "from pyspark.ml.evaluation import MulticlassClassificationEvaluator"
   ]
  },
  {
   "cell_type": "code",
   "execution_count": 2,
   "metadata": {},
   "outputs": [],
   "source": [
    "# set Seaborn style & color palette\n",
    "sns.set_style(\"whitegrid\")\n",
    "sns.set_palette(\"hls\", 2)"
   ]
  },
  {
   "cell_type": "code",
   "execution_count": 3,
   "metadata": {},
   "outputs": [],
   "source": [
    "# create a Spark session\n",
    "spark = SparkSession.builder \\\n",
    "    .master(\"local\") \\\n",
    "    .appName(\"Sparkify\") \\\n",
    "    .getOrCreate()"
   ]
  },
  {
   "cell_type": "markdown",
   "metadata": {},
   "source": [
    "# Load and Clean Dataset\n",
    "In this workspace, the mini-dataset file is `mini_sparkify_event_data.json`. Load and clean the dataset, checking for invalid or missing data - for example, records without userids or sessionids. "
   ]
  },
  {
   "cell_type": "code",
   "execution_count": 4,
   "metadata": {},
   "outputs": [],
   "source": [
    "def print_shape(df):\n",
    "    \"\"\"\n",
    "    Method imitating the pandas .shape property.\n",
    "    \n",
    "    Args: \n",
    "        df: pyspark.DataFrame\n",
    "    \n",
    "    Returns:\n",
    "        None\n",
    "    \"\"\"\n",
    "    \n",
    "    print(\"(\", df.count(), \",\", len(df.columns), \")\")"
   ]
  },
  {
   "cell_type": "code",
   "execution_count": 5,
   "metadata": {},
   "outputs": [
    {
     "data": {
      "text/plain": [
       "DataFrame[artist: string, auth: string, firstName: string, gender: string, itemInSession: bigint, lastName: string, length: double, level: string, location: string, method: string, page: string, registration: bigint, sessionId: bigint, song: string, status: bigint, ts: bigint, userAgent: string, userId: string]"
      ]
     },
     "execution_count": 5,
     "metadata": {},
     "output_type": "execute_result"
    }
   ],
   "source": [
    "sparkify_data = \"mini_sparkify_event_data.json\"  # define the data file\n",
    "\n",
    "df = spark.read.json(sparkify_data)  # read the json file\n",
    "df.persist()  # persist the data in memory"
   ]
  },
  {
   "cell_type": "code",
   "execution_count": 6,
   "metadata": {},
   "outputs": [
    {
     "name": "stdout",
     "output_type": "stream",
     "text": [
      "root\n",
      " |-- artist: string (nullable = true)\n",
      " |-- auth: string (nullable = true)\n",
      " |-- firstName: string (nullable = true)\n",
      " |-- gender: string (nullable = true)\n",
      " |-- itemInSession: long (nullable = true)\n",
      " |-- lastName: string (nullable = true)\n",
      " |-- length: double (nullable = true)\n",
      " |-- level: string (nullable = true)\n",
      " |-- location: string (nullable = true)\n",
      " |-- method: string (nullable = true)\n",
      " |-- page: string (nullable = true)\n",
      " |-- registration: long (nullable = true)\n",
      " |-- sessionId: long (nullable = true)\n",
      " |-- song: string (nullable = true)\n",
      " |-- status: long (nullable = true)\n",
      " |-- ts: long (nullable = true)\n",
      " |-- userAgent: string (nullable = true)\n",
      " |-- userId: string (nullable = true)\n",
      "\n"
     ]
    }
   ],
   "source": [
    "df.printSchema()"
   ]
  },
  {
   "cell_type": "code",
   "execution_count": 7,
   "metadata": {},
   "outputs": [
    {
     "data": {
      "text/plain": [
       "Row(artist='Martha Tilston', auth='Logged In', firstName='Colin', gender='M', itemInSession=50, lastName='Freeman', length=277.89016, level='paid', location='Bakersfield, CA', method='PUT', page='NextSong', registration=1538173362000, sessionId=29, song='Rockpools', status=200, ts=1538352117000, userAgent='Mozilla/5.0 (Windows NT 6.1; WOW64; rv:31.0) Gecko/20100101 Firefox/31.0', userId='30')"
      ]
     },
     "execution_count": 7,
     "metadata": {},
     "output_type": "execute_result"
    }
   ],
   "source": [
    "df.head()"
   ]
  },
  {
   "cell_type": "code",
   "execution_count": 8,
   "metadata": {},
   "outputs": [
    {
     "name": "stdout",
     "output_type": "stream",
     "text": [
      "( 286500 , 18 )\n"
     ]
    }
   ],
   "source": [
    "print_shape(df)"
   ]
  },
  {
   "cell_type": "code",
   "execution_count": 9,
   "metadata": {},
   "outputs": [
    {
     "name": "stdout",
     "output_type": "stream",
     "text": [
      "Rows:  286500\n",
      "Cols:  18\n"
     ]
    }
   ],
   "source": [
    "print(\"Rows: \", df.count())  # get the shape of the df\n",
    "print(\"Cols: \", len(df.columns))"
   ]
  },
  {
   "cell_type": "code",
   "execution_count": 10,
   "metadata": {},
   "outputs": [
    {
     "name": "stdout",
     "output_type": "stream",
     "text": [
      "Rows:  278154\n",
      "Cols:  18\n"
     ]
    }
   ],
   "source": [
    "df_clean = df.filter((df.userId != \"\") | (df.sessionId != \"\"))  # remove rows where either userId or sessionId is empty\n",
    "print(\"Rows: \", df_clean.count())\n",
    "print(\"Cols: \", len(df_clean.columns))"
   ]
  },
  {
   "cell_type": "code",
   "execution_count": 11,
   "metadata": {},
   "outputs": [
    {
     "name": "stdout",
     "output_type": "stream",
     "text": [
      "Numb. unique IDs: \n",
      "+----------------------+\n",
      "|count(DISTINCT userId)|\n",
      "+----------------------+\n",
      "|                   225|\n",
      "+----------------------+\n",
      "\n"
     ]
    }
   ],
   "source": [
    "print(\"Numb. unique IDs: \")\n",
    "df_clean.select(F.countDistinct(\"userId\")).show()"
   ]
  },
  {
   "cell_type": "markdown",
   "metadata": {},
   "source": [
    "# Exploratory Data Analysis\n",
    "When you're working with the full dataset, perform EDA by loading a small subset of the data and doing basic manipulations within Spark. In this workspace, you are already provided a small subset of data you can explore.\n",
    "\n",
    "### Define Churn\n",
    "\n",
    "Once you've done some preliminary analysis, create a column `Churn` to use as the label for your model. I suggest using the `Cancellation Confirmation` events to define your churn, which happen for both paid and free users. As a bonus task, you can also look into the `Downgrade` events.\n",
    "\n",
    "### Explore Data\n",
    "Once you've defined churn, perform some exploratory data analysis to observe the behavior for users who stayed vs users who churned. You can start by exploring aggregates on these two groups of users, observing how much of a specific action they experienced per a certain time unit or number of songs played."
   ]
  },
  {
   "cell_type": "markdown",
   "metadata": {},
   "source": [
    "### Defining Churn"
   ]
  },
  {
   "cell_type": "code",
   "execution_count": 12,
   "metadata": {},
   "outputs": [],
   "source": [
    "def plot_barplot(df, x, y, hue, print_vals, plt_labels, title_list, figsize=(4,3)):\n",
    "    \"\"\"\n",
    "    Plot an sns barplot given a set of params.\n",
    "    \n",
    "    Args:\n",
    "        df: pd.DataFrame; in sns format!\n",
    "        x: str; xcol\n",
    "        y: str; ycol\n",
    "        hue: str;\n",
    "        print_vals: bool; check if df should be printed\n",
    "        plt_labels: list(str); \n",
    "        title_list: list(str); fig title, x title, y title\n",
    "        figsize: tuple(int, int)\n",
    "        \n",
    "    Returns:\n",
    "        None\n",
    "    \"\"\"\n",
    "    \n",
    "    plt.figure(figsize=figsize)  # set the figsize\n",
    "    sns.barplot(data=df, x=x, y=y, hue=hue)  # sns barplot\n",
    "    \n",
    "    if plt_labels:\n",
    "        plt.xticks(np.arange(len(plt_labels)), plt_labels)  # set predefined xlabels\n",
    "        \n",
    "    plt.title(title_list[0])\n",
    "    plt.xlabel(title_list[1])\n",
    "    plt.ylabel(title_list[2])\n",
    "    \n",
    "    plt.grid(True)\n",
    "    \n",
    "    if print_vals:\n",
    "        print(df.head())"
   ]
  },
  {
   "cell_type": "code",
   "execution_count": 13,
   "metadata": {},
   "outputs": [
    {
     "data": {
      "text/plain": [
       "[Row(page='NextSong', count=228108),\n",
       " Row(page='Thumbs Up', count=12551),\n",
       " Row(page='Home', count=10082),\n",
       " Row(page='Add to Playlist', count=6526),\n",
       " Row(page='Add Friend', count=4277),\n",
       " Row(page='Roll Advert', count=3933),\n",
       " Row(page='Logout', count=3226),\n",
       " Row(page='Thumbs Down', count=2546),\n",
       " Row(page='Downgrade', count=2055),\n",
       " Row(page='Settings', count=1514),\n",
       " Row(page='Help', count=1454),\n",
       " Row(page='Upgrade', count=499),\n",
       " Row(page='About', count=495),\n",
       " Row(page='Save Settings', count=310),\n",
       " Row(page='Error', count=252),\n",
       " Row(page='Submit Upgrade', count=159),\n",
       " Row(page='Submit Downgrade', count=63),\n",
       " Row(page='Cancel', count=52),\n",
       " Row(page='Cancellation Confirmation', count=52)]"
      ]
     },
     "execution_count": 13,
     "metadata": {},
     "output_type": "execute_result"
    }
   ],
   "source": [
    "df_clean.groupBy(\"page\").count().orderBy(\"count\", ascending=False).collect()  # get all types of events"
   ]
  },
  {
   "cell_type": "code",
   "execution_count": 14,
   "metadata": {},
   "outputs": [
    {
     "name": "stdout",
     "output_type": "stream",
     "text": [
      "+------+---------+---------+------+-------------+--------+------+-----+--------------------+------+-----+-------------+---------+----+------+-------------+--------------------+------+\n",
      "|artist|     auth|firstName|gender|itemInSession|lastName|length|level|            location|method| page| registration|sessionId|song|status|           ts|           userAgent|userId|\n",
      "+------+---------+---------+------+-------------+--------+------+-----+--------------------+------+-----+-------------+---------+----+------+-------------+--------------------+------+\n",
      "|  null|Logged In|     Kael|     M|           48|   Baker|  null| paid|Kingsport-Bristol...|   GET|Error|1533102330000|      249|null|   404|1538393848000|\"Mozilla/5.0 (Mac...|   131|\n",
      "|  null|Logged In|   Lucero|     F|           10|    Reed|  null| free|Louisville/Jeffer...|   GET|Error|1536642109000|      139|null|   404|1538407927000|\"Mozilla/5.0 (Win...|   140|\n",
      "+------+---------+---------+------+-------------+--------+------+-----+--------------------+------+-----+-------------+---------+----+------+-------------+--------------------+------+\n",
      "only showing top 2 rows\n",
      "\n"
     ]
    }
   ],
   "source": [
    "df_clean[df_clean.page == \"Error\"].show(2)"
   ]
  },
  {
   "cell_type": "code",
   "execution_count": 15,
   "metadata": {},
   "outputs": [],
   "source": [
    "user_window = Window.partitionBy(\"userId\")  # create windows separating each user by ID\n",
    "\n",
    "# make a flag for \"Submit Downgrade\" events\n",
    "downgrade_check = udf(lambda x: x == \"Submit Downgrade\", BooleanType())\n",
    "df_clean = df_clean.withColumn(\"downgrade_flag\", downgrade_check(df.page).cast('integer'))  # cast to int\n",
    "\n",
    "# label users who downgraded\n",
    "df_clean = df_clean.withColumn(\"user_downgrade\", F.max(\"downgrade_flag\").over(user_window))\n",
    "\n",
    "\n",
    "# make a flag for \"Cancellation Confirmation\" events\n",
    "cancellation_check = udf(lambda x: x == \"Cancellation Confirmation\", BooleanType())\n",
    "df_clean = df_clean.withColumn(\"cancel_flag\", cancellation_check(df.page).cast('integer'))  # cast to int\n",
    "\n",
    "# label users who cancelled\n",
    "df_clean = df_clean.withColumn(\"user_cancel\", F.max(\"cancel_flag\").over(user_window))\n",
    "\n",
    "\n",
    "# # make a flag for both events\n",
    "# churn_check = udf(lambda x: (x == \"Submit Downgrade\") | (x == \"Cancellation Confirmation\"), BooleanType())\n",
    "# df_clean = df_clean.withColumn(\"churn_flag\", churn_check(df.page).cast('integer'))  # cast to int\n",
    "\n",
    "# # label users for both events \n",
    "# #df_clean = df_clean.withColumn(\"user_churn\", F.max(\"churn_flag\").over(user_window))\n",
    "# churn_window = Window.partitionBy(\"userId\").rangeBetween(Window.unboundedPreceding, Window.unboundedFollowing)\n",
    "# df_clean = df_clean.withColumn(\"user_churn\", F.max('churn_flag').over(churn_window))"
   ]
  },
  {
   "cell_type": "code",
   "execution_count": 16,
   "metadata": {},
   "outputs": [
    {
     "name": "stdout",
     "output_type": "stream",
     "text": [
      "   user_cancel  count\n",
      "0            1     52\n",
      "1            0    173\n"
     ]
    },
    {
     "data": {
      "image/png": "[encoded data removed]",
      "text/plain": [
       "<Figure size 500x400 with 1 Axes>"
      ]
     },
     "metadata": {},
     "output_type": "display_data"
    }
   ],
   "source": [
    "df_cancel_pd = df_clean.drop_duplicates([\"userId\"]).groupby([\"user_cancel\"]).count().toPandas()  # pd df for barplots\n",
    "\n",
    "# make plot\n",
    "plot_barplot(df_cancel_pd, x=\"user_cancel\", y=\"count\", hue=None, print_vals=True, plt_labels=[\"Active\", \"Cancelled\"],\n",
    "           title_list=['Number of unique users by subscription',\n",
    "                      'Subscription status',\n",
    "                      'Numb. users'],\n",
    "            figsize=(5,4))\n",
    "\n",
    "plt.show()"
   ]
  },
  {
   "cell_type": "code",
   "execution_count": 17,
   "metadata": {},
   "outputs": [
    {
     "name": "stdout",
     "output_type": "stream",
     "text": [
      "   user_downgrade  count\n",
      "0               1     49\n",
      "1               0    176\n"
     ]
    },
    {
     "data": {
      "image/png": "[encoded data removed]",
      "text/plain": [
       "<Figure size 500x400 with 1 Axes>"
      ]
     },
     "metadata": {},
     "output_type": "display_data"
    }
   ],
   "source": [
    "df_downgrade_pd = df_clean.drop_duplicates([\"userId\"]).groupby([\"user_downgrade\"]).count().toPandas()  # pd df for barplots\n",
    "\n",
    "# make plot\n",
    "plot_barplot(df_downgrade_pd, x=\"user_downgrade\", y=\"count\", hue=None, print_vals=True, plt_labels=[\"Active\", \"Cancelled\"],\n",
    "           title_list=['Number of unique users by subscription',\n",
    "                      'Subscription status',\n",
    "                      'Numb. users'],\n",
    "            figsize=(5,4))\n",
    "\n",
    "plt.show()"
   ]
  },
  {
   "cell_type": "markdown",
   "metadata": {},
   "source": [
    "### Data Exploration"
   ]
  },
  {
   "cell_type": "code",
   "execution_count": 18,
   "metadata": {},
   "outputs": [],
   "source": [
    "# define methods for \n",
    "song = udf(lambda x : int(x=='NextSong'), IntegerType())\n",
    "home_visit = udf(lambda x : int(x=='Home'), IntegerType())"
   ]
  },
  {
   "cell_type": "code",
   "execution_count": 19,
   "metadata": {},
   "outputs": [
    {
     "name": "stdout",
     "output_type": "stream",
     "text": [
      "+-------+------------------+------------------+\n",
      "|summary|            userId|             churn|\n",
      "+-------+------------------+------------------+\n",
      "|  count|               225|               225|\n",
      "|   mean|65391.013333333336|199.39555555555555|\n",
      "| stddev|105396.47791907164| 546.1125022911765|\n",
      "|    min|                10|                 0|\n",
      "|    max|                99|              3603|\n",
      "+-------+------------------+------------------+\n",
      "\n"
     ]
    }
   ],
   "source": [
    "#distribution of users downgrades and cancellations\n",
    "df_clean.select(['userId', 'user_cancel'])\\\n",
    "    .groupBy('userId').sum()\\\n",
    "    .withColumnRenamed('sum(user_cancel)', 'churn').describe().show()"
   ]
  },
  {
   "cell_type": "code",
   "execution_count": 20,
   "metadata": {},
   "outputs": [],
   "source": [
    "time_window = Window.partitionBy(\"userId\").orderBy(desc(\"ts\")).rangeBetween(Window.unboundedPreceding, 0)\n",
    "\n",
    "# df_clean = df_clean.withColumn(\"cum_sum_churn\", F.sum(\"user_cancel\").over(time_window))"
   ]
  },
  {
   "cell_type": "code",
   "execution_count": 21,
   "metadata": {},
   "outputs": [
    {
     "name": "stdout",
     "output_type": "stream",
     "text": [
      "+------------------+\n",
      "|   avg(songPlayed)|\n",
      "+------------------+\n",
      "|0.8112072039942939|\n",
      "+------------------+\n",
      "\n"
     ]
    }
   ],
   "source": [
    "# average number of songs player for users which churned\n",
    "df_clean.filter(col('user_cancel')==1).withColumn(\"songPlayed\", song(col('page'))).agg({'songPlayed':\"mean\"}).show()"
   ]
  },
  {
   "cell_type": "code",
   "execution_count": 22,
   "metadata": {},
   "outputs": [
    {
     "name": "stdout",
     "output_type": "stream",
     "text": [
      "+------------------+\n",
      "|   avg(songPlayed)|\n",
      "+------------------+\n",
      "|0.8217840456084702|\n",
      "+------------------+\n",
      "\n"
     ]
    }
   ],
   "source": [
    "# average number of songs player for users which stayed\n",
    "df_clean.filter(col('user_cancel')!=1).withColumn(\"songPlayed\", song(col('page'))).agg({'songPlayed':\"mean\"}).show()"
   ]
  },
  {
   "cell_type": "code",
   "execution_count": 23,
   "metadata": {},
   "outputs": [
    {
     "name": "stdout",
     "output_type": "stream",
     "text": [
      "+----------------------+\n",
      "|avg(count(songPeriod))|\n",
      "+----------------------+\n",
      "|      22.6612702366127|\n",
      "+----------------------+\n",
      "\n",
      "+----------------------+\n",
      "|avg(count(songPeriod))|\n",
      "+----------------------+\n",
      "|     23.79175974187143|\n",
      "+----------------------+\n",
      "\n"
     ]
    }
   ],
   "source": [
    "#number of songs played between home visits\n",
    "cusum = df_clean.filter((df_clean.page == 'NextSong') | (df_clean.page == 'Home')) \\\n",
    "    .select('userID', 'page', 'ts', 'user_cancel') \\\n",
    "    .withColumn('homevisit', home_visit(col('page'))) \\\n",
    "    .withColumn('songPeriod', F.sum('homevisit').over(time_window))\n",
    "\n",
    "cusum.filter((cusum.user_cancel == 1) & (cusum.page == 'NextSong')) \\\n",
    "    .groupBy('userID', 'songPeriod') \\\n",
    "    .agg({'songPeriod':'count'}) \\\n",
    "    .agg({'count(songPeriod)':'avg'}).show()\n",
    "\n",
    "cusum.filter((cusum.user_cancel == 0) & (cusum.page == 'NextSong')) \\\n",
    "    .groupBy('userID', 'songPeriod') \\\n",
    "    .agg({'songPeriod':'count'}) \\\n",
    "    .agg({'count(songPeriod)':'avg'}).show()"
   ]
  },
  {
   "cell_type": "code",
   "execution_count": 88,
   "metadata": {},
   "outputs": [
    {
     "name": "stdout",
     "output_type": "stream",
     "text": [
      "   user_cancel gender  count\n",
      "0            0      M     89\n",
      "1            0      F     84\n",
      "2            1      F     20\n",
      "3            1      M     32\n"
     ]
    },
    {
     "data": {
      "image/png": "[encoded data removed]",
      "text/plain": [
       "<Figure size 500x400 with 1 Axes>"
      ]
     },
     "metadata": {},
     "output_type": "display_data"
    }
   ],
   "source": [
    "# Barplot for the gender distribution/subscription status\n",
    "df_cancel_pd = df_clean.drop_duplicates(['userId']).groupby(['user_cancel', 'gender']).count().sort(\"user_cancel\").toPandas()\n",
    "\n",
    "# make plot\n",
    "plot_barplot(df_cancel_pd, x=\"user_cancel\", y=\"count\", hue=\"gender\", print_vals=True, plt_labels=[\"Active\", \"Cancelled\"],\n",
    "           title_list=[\"Gender split/subscription\",\n",
    "                      \"Subscription status\",\n",
    "                      \"Numb. users\"],\n",
    "            figsize=(5,4))\n",
    "\n",
    "plt.savefig('gen_split-sub.png', dpi=300, bbox_inches='tight')  # save the figure as png\n",
    "\n",
    "plt.show()"
   ]
  },
  {
   "cell_type": "code",
   "execution_count": 87,
   "metadata": {},
   "outputs": [
    {
     "name": "stdout",
     "output_type": "stream",
     "text": [
      "   user_cancel level  count\n",
      "0            0  free    149\n",
      "1            0  paid    129\n",
      "2            1  paid     36\n",
      "3            1  free     46\n"
     ]
    },
    {
     "data": {
      "image/png": "[encoded data removed]",
      "text/plain": [
       "<Figure size 500x400 with 1 Axes>"
      ]
     },
     "metadata": {},
     "output_type": "display_data"
    }
   ],
   "source": [
    "# Barplot for subscription type/subscription status\n",
    "df_level_pd = df_clean.drop_duplicates(['userId', 'user_cancel', 'level']).groupby(['user_cancel', 'level']).count().sort(\"user_cancel\").toPandas()\n",
    "\n",
    "# make plot\n",
    "plot_barplot(df_level_pd, x=\"user_cancel\", y=\"count\", hue=\"level\", print_vals=True, plt_labels=[\"Active\", \"Cancelled\"],\n",
    "           title_list=[\"Subscription type/Subscription status\",\n",
    "                      \"Subscription status\",\n",
    "                      \"Numb. users\"],\n",
    "            figsize=(5,4))\n",
    "\n",
    "plt.savefig('sub_type-sub_stat.png', dpi=300, bbox_inches='tight')  # save the figure as png\n",
    "\n",
    "plt.show()"
   ]
  },
  {
   "cell_type": "markdown",
   "metadata": {},
   "source": [
    "#### Plot events/subscription type"
   ]
  },
  {
   "cell_type": "code",
   "execution_count": 86,
   "metadata": {},
   "outputs": [
    {
     "name": "stdout",
     "output_type": "stream",
     "text": [
      "               page user_cancel      count\n",
      "30        Thumbs Up      Active  25.716760\n",
      "31        Thumbs Up   Cancelled  21.948052\n",
      "14             Home      Active  20.228016\n",
      "15             Home   Cancelled  19.740260\n",
      "4   Add to Playlist      Active  13.199923\n"
     ]
    },
    {
     "data": {
      "image/png": "[encoded data removed]",
      "text/plain": [
       "<Figure size 700x900 with 1 Axes>"
      ]
     },
     "metadata": {},
     "output_type": "display_data"
    }
   ],
   "source": [
    "# Barplot for events/subscription status\n",
    "\n",
    "# create the events df\n",
    "df_events_pd = df_clean.groupby(['page','user_cancel']).count().toPandas()  # get a count of all events\n",
    "\n",
    "df_events_pd['user_cancel'].replace({0:'Active', 1: 'Cancelled'}, inplace = True)  # replace the 0, 1 labels to text\n",
    "\n",
    "df_events_pd = df_events_pd[df_events_pd['page'] != 'NextSong']  # remove NextSong as it dominates\n",
    "\n",
    "df_events_pd = ((df_events_pd.groupby(['page','user_cancel']).sum() / \n",
    "                 df_events_pd.groupby(['user_cancel']).sum()) * 100).reset_index()  # get counts in percentage\n",
    "\n",
    "# sort the dataframe\n",
    "df_events_pd.sort_values([\"count\"], ascending=False, inplace=True)\n",
    "\n",
    "# make barplot. This adds to 100% of total events that are not NextSong \n",
    "plot_barplot(df_events_pd, x=\"count\", y=\"page\", hue=\"user_cancel\", print_vals=True, plt_labels=None,\n",
    "           title_list=[\"Events/subscription status (%)\",\n",
    "                      \"Percentage of events\",\n",
    "                      \"Event types\"],\n",
    "            figsize=(7,9))\n",
    "\n",
    "plt.savefig('events-subscription_status.png', dpi=300, bbox_inches='tight')  # save the figure as png\n",
    "\n",
    "plt.show()"
   ]
  },
  {
   "cell_type": "code",
   "execution_count": 27,
   "metadata": {},
   "outputs": [],
   "source": [
    "# add columns for day, weekday and hour based on timestamp\n",
    "get_day = udf(lambda x: datetime.datetime.fromtimestamp(x / 1000).day)  # day\n",
    "df_clean = df_clean.withColumn(\"day\", get_day(df_clean.ts))\n",
    "\n",
    "get_wkday = udf(lambda x: datetime.datetime.fromtimestamp(x / 1000).weekday())  # weekday\n",
    "df_clean = df_clean.withColumn(\"wkday\", get_wkday(df_clean.ts))\n",
    "\n",
    "get_hour = udf(lambda x: datetime.datetime.fromtimestamp(x / 1000).hour)  # hour\n",
    "df_clean = df_clean.withColumn(\"hour\", get_hour(df_clean.ts))"
   ]
  },
  {
   "cell_type": "markdown",
   "metadata": {},
   "source": [
    "#### Plot events/day-of-month"
   ]
  },
  {
   "cell_type": "code",
   "execution_count": 92,
   "metadata": {},
   "outputs": [
    {
     "name": "stdout",
     "output_type": "stream",
     "text": [
      "    day user_cancel     count\n",
      "0     1      Active  3.857859\n",
      "1     1   Cancelled  4.333096\n",
      "23    2   Cancelled  5.367332\n",
      "22    2      Active  3.980882\n",
      "45    3   Cancelled  4.685271\n"
     ]
    },
    {
     "data": {
      "image/png": "[encoded data removed]",
      "text/plain": [
       "<Figure size 1800x500 with 1 Axes>"
      ]
     },
     "metadata": {},
     "output_type": "display_data"
    }
   ],
   "source": [
    "df_day = df_clean.groupby([\"day\", \"user_cancel\"]).count().toPandas()\n",
    "df_day = ((df_day.groupby(['day', 'user_cancel']).sum() / \n",
    "           df_day.groupby(['user_cancel']).sum()) * 100).reset_index()\n",
    "\n",
    "df_day['user_cancel'].replace({0:'Active', 1: 'Cancelled'}, inplace = True)  # replace the 0, 1 labels to text\n",
    "\n",
    "df_day[\"day\"] = df_day[\"day\"].astype(int)  # convert the str day index to int\n",
    "\n",
    "df_day.sort_values(by = [\"day\"], ascending=True, inplace = True)  # sort days in asceding order\n",
    "\n",
    "# make barplot\n",
    "plot_barplot(df_day, x=\"day\", y=\"count\", hue=\"user_cancel\", print_vals=True, plt_labels=None,\n",
    "           title_list=[\"Events/day of month (%)\",\n",
    "                      \"Day of month\",\n",
    "                      \"Event percentage\"],\n",
    "            figsize=(18,5))\n",
    "\n",
    "plt.savefig('event-day_of_month.png', dpi=300, bbox_inches='tight')  # save the figure as png\n",
    "\n",
    "plt.show()"
   ]
  },
  {
   "cell_type": "markdown",
   "metadata": {},
   "source": [
    "#### Plot events/weekday"
   ]
  },
  {
   "cell_type": "code",
   "execution_count": 91,
   "metadata": {},
   "outputs": [
    {
     "name": "stdout",
     "output_type": "stream",
     "text": [
      "   wkday user_cancel      count\n",
      "0      0      Active  15.020790\n",
      "1      0   Cancelled  14.722272\n",
      "2      1      Active  16.815980\n",
      "3      1   Cancelled  16.810806\n",
      "4      2      Active  16.934288\n"
     ]
    },
    {
     "data": {
      "image/png": "[encoded data removed]",
      "text/plain": [
       "<Figure size 1400x400 with 1 Axes>"
      ]
     },
     "metadata": {},
     "output_type": "display_data"
    }
   ],
   "source": [
    "df_wkday = df_clean.groupby([\"wkday\", \"user_cancel\"]).count().toPandas()\n",
    "df_wkday = ((df_wkday.groupby(['wkday', 'user_cancel']).sum() / \n",
    "           df_wkday.groupby(['user_cancel']).sum()) * 100).reset_index()\n",
    "\n",
    "df_wkday['user_cancel'].replace({0:'Active', 1: 'Cancelled'}, inplace = True)  # replace the 0, 1 labels to text\n",
    "\n",
    "df_wkday[\"wkday\"] = df_wkday[\"wkday\"].astype(int)  # convert the str wkday index to int\n",
    "\n",
    "df_wkday.sort_values(by = [\"wkday\"], ascending=True, inplace = True)  # sort wkday in asceding order\n",
    "\n",
    "# make barplot\n",
    "plot_barplot(df_wkday, x=\"wkday\", y=\"count\", hue=\"user_cancel\", print_vals=True, \n",
    "            plt_labels=[\"Monday\", \"Tuesday\", \"Wednesday\", \"Thursday\", \"Friday\", \"Saturday\", \"Sunday\"],\n",
    "            title_list=[\"Events/weekday (%)\",\n",
    "                      \"Day of month\",\n",
    "                      \"Event percentage\"],\n",
    "            figsize=(14,4))\n",
    "\n",
    "plt.savefig('event-weekday.png', dpi=300, bbox_inches='tight')  # save the figure as png\n",
    "\n",
    "plt.show()"
   ]
  },
  {
   "cell_type": "markdown",
   "metadata": {},
   "source": [
    "#### Plot songs played/hour"
   ]
  },
  {
   "cell_type": "code",
   "execution_count": 90,
   "metadata": {},
   "outputs": [
    {
     "name": "stdout",
     "output_type": "stream",
     "text": [
      "    hour user_cancel     count\n",
      "0      0      Active  4.330930\n",
      "1      0   Cancelled  4.410068\n",
      "2      1      Active  4.049261\n",
      "3      1   Cancelled  4.297412\n",
      "25     2   Cancelled  4.280925\n"
     ]
    },
    {
     "name": "stderr",
     "output_type": "stream",
     "text": [
      "C:\\Miniconda\\envs\\pyspark\\lib\\site-packages\\ipykernel_launcher.py:21: MatplotlibDeprecationWarning: savefig() got unexpected keyword argument \"tight_layout\" which is no longer supported as of 3.3 and will become an error two minor releases later\n"
     ]
    },
    {
     "data": {
      "image/png": "[encoded data removed]",
      "text/plain": [
       "<Figure size 1800x500 with 1 Axes>"
      ]
     },
     "metadata": {},
     "output_type": "display_data"
    }
   ],
   "source": [
    "df_songs = df_clean.filter(df_clean[\"page\"] == \"NextSong\")  # get only the NextSong events\n",
    "\n",
    "df_songs = df_songs.groupby([\"hour\", \"user_cancel\"]).count().toPandas()\n",
    "df_songs = ((df_songs.groupby(['hour', 'user_cancel']).sum() / \n",
    "           df_songs.groupby(['user_cancel']).sum()) * 100).reset_index()\n",
    "\n",
    "df_songs['user_cancel'].replace({0:'Active', 1: 'Cancelled'}, inplace = True)  # replace the 0, 1 labels to text\n",
    "\n",
    "df_songs[\"hour\"] = df_songs[\"hour\"].astype(int)  # convert the str hour to int\n",
    "\n",
    "df_songs.sort_values(by = [\"hour\"], ascending=True, inplace = True)  # sort hours in asceding order\n",
    "\n",
    "# make barplot\n",
    "plot_barplot(df_songs, x=\"hour\", y=\"count\", hue=\"user_cancel\", print_vals=True, \n",
    "            plt_labels=None,\n",
    "            title_list=[\"Songs played/hour (%)\",\n",
    "                      \"Hour of day\",\n",
    "                      \"Songs played percentage\"],\n",
    "            figsize=(18,5))\n",
    "\n",
    "plt.savefig('songs-hour.png', dpi=300, bbox_inches='tight')  # save the figure as png\n",
    "\n",
    "plt.show()"
   ]
  },
  {
   "cell_type": "markdown",
   "metadata": {},
   "source": [
    "# Feature Engineering\n",
    "Once you've familiarized yourself with the data, build out the features you find promising to train your model on. To work with the full dataset, you can follow the following steps.\n",
    "- Write a script to extract the necessary features from the smaller subset of data\n",
    "- Ensure that your script is scalable, using the best practices discussed in Lesson 3\n",
    "- Try your script on the full data set, debugging your script if necessary\n",
    "\n",
    "If you are working in the classroom workspace, you can just extract features based on the small subset of data contained here. Be sure to transfer over this work to the larger dataset when you work on your Spark cluster."
   ]
  },
  {
   "cell_type": "code",
   "execution_count": 31,
   "metadata": {},
   "outputs": [
    {
     "name": "stdout",
     "output_type": "stream",
     "text": [
      "root\n",
      " |-- artist: string (nullable = true)\n",
      " |-- auth: string (nullable = true)\n",
      " |-- firstName: string (nullable = true)\n",
      " |-- gender: string (nullable = true)\n",
      " |-- itemInSession: long (nullable = true)\n",
      " |-- lastName: string (nullable = true)\n",
      " |-- length: double (nullable = true)\n",
      " |-- level: string (nullable = true)\n",
      " |-- location: string (nullable = true)\n",
      " |-- method: string (nullable = true)\n",
      " |-- page: string (nullable = true)\n",
      " |-- registration: long (nullable = true)\n",
      " |-- sessionId: long (nullable = true)\n",
      " |-- song: string (nullable = true)\n",
      " |-- status: long (nullable = true)\n",
      " |-- ts: long (nullable = true)\n",
      " |-- userAgent: string (nullable = true)\n",
      " |-- userId: string (nullable = true)\n",
      " |-- downgrade_flag: integer (nullable = true)\n",
      " |-- user_downgrade: integer (nullable = true)\n",
      " |-- cancel_flag: integer (nullable = true)\n",
      " |-- user_cancel: integer (nullable = true)\n",
      " |-- day: string (nullable = true)\n",
      " |-- wkday: string (nullable = true)\n",
      " |-- hour: string (nullable = true)\n",
      "\n"
     ]
    }
   ],
   "source": [
    "df_clean.printSchema()  # print the schema to select features"
   ]
  },
  {
   "cell_type": "code",
   "execution_count": 32,
   "metadata": {},
   "outputs": [
    {
     "name": "stdout",
     "output_type": "stream",
     "text": [
      "+--------------------+------+\n",
      "|                page| count|\n",
      "+--------------------+------+\n",
      "|            NextSong|228108|\n",
      "|           Thumbs Up| 12551|\n",
      "|                Home| 10082|\n",
      "|     Add to Playlist|  6526|\n",
      "|          Add Friend|  4277|\n",
      "|         Roll Advert|  3933|\n",
      "|              Logout|  3226|\n",
      "|         Thumbs Down|  2546|\n",
      "|           Downgrade|  2055|\n",
      "|            Settings|  1514|\n",
      "|                Help|  1454|\n",
      "|             Upgrade|   499|\n",
      "|               About|   495|\n",
      "|       Save Settings|   310|\n",
      "|               Error|   252|\n",
      "|      Submit Upgrade|   159|\n",
      "|    Submit Downgrade|    63|\n",
      "|              Cancel|    52|\n",
      "|Cancellation Conf...|    52|\n",
      "+--------------------+------+\n",
      "\n"
     ]
    }
   ],
   "source": [
    "df_clean.groupBy(\"page\").count().orderBy(\"count\", ascending=False).show()  # show all event types"
   ]
  },
  {
   "cell_type": "code",
   "execution_count": 33,
   "metadata": {},
   "outputs": [
    {
     "name": "stdout",
     "output_type": "stream",
     "text": [
      "+--------------------+---------+---------+------+-------------+---------+---------+-----+--------------------+------+--------+-------------+---------+--------------------+------+-------------+--------------------+------+--------------+--------------+-----------+-----------+---+-----+----+\n",
      "|              artist|     auth|firstName|gender|itemInSession| lastName|   length|level|            location|method|    page| registration|sessionId|                song|status|           ts|           userAgent|userId|downgrade_flag|user_downgrade|cancel_flag|user_cancel|day|wkday|hour|\n",
      "+--------------------+---------+---------+------+-------------+---------+---------+-----+--------------------+------+--------+-------------+---------+--------------------+------+-------------+--------------------+------+--------------+--------------+-----------+-----------+---+-----+----+\n",
      "|Sleeping With Sirens|Logged In| Darianna|     F|            0|Carpenter|202.97098| free|Bridgeport-Stamfo...|   PUT|NextSong|1538016340000|       31|Captain Tyin Knot...|   200|1539003534000|\"Mozilla/5.0 (iPh...|100010|             0|             0|          0|          0|  8|    0|  14|\n",
      "+--------------------+---------+---------+------+-------------+---------+---------+-----+--------------------+------+--------+-------------+---------+--------------------+------+-------------+--------------------+------+--------------+--------------+-----------+-----------+---+-----+----+\n",
      "only showing top 1 row\n",
      "\n"
     ]
    }
   ],
   "source": [
    "df_clean.show(1)"
   ]
  },
  {
   "cell_type": "markdown",
   "metadata": {},
   "source": [
    "##### User stats"
   ]
  },
  {
   "cell_type": "code",
   "execution_count": 34,
   "metadata": {},
   "outputs": [
    {
     "data": {
      "text/plain": [
       "[Row(userId='100010', n_songs_played=381),\n",
       " Row(userId='200002', n_songs_played=474),\n",
       " Row(userId='125', n_songs_played=11)]"
      ]
     },
     "execution_count": 34,
     "metadata": {},
     "output_type": "execute_result"
    }
   ],
   "source": [
    "# Feature 1: Number of songs played/user\n",
    "n_songs_played = df_clean.select(\"userId\", \"song\").groupBy(\"userId\").count().withColumnRenamed(\"count\", \"n_songs_played\")\n",
    "n_songs_played.head(3)"
   ]
  },
  {
   "cell_type": "code",
   "execution_count": 35,
   "metadata": {},
   "outputs": [
    {
     "data": {
      "text/plain": [
       "[Row(userId='100010', n_artists=252),\n",
       " Row(userId='200002', n_artists=339),\n",
       " Row(userId='125', n_artists=8)]"
      ]
     },
     "execution_count": 35,
     "metadata": {},
     "output_type": "execute_result"
    }
   ],
   "source": [
    "# Feature 2: Number of unique artists/user\n",
    "n_artists = df_clean.select(\"userId\", \"artist\").groupBy(\"userId\").agg(F.countDistinct(\"artist\")) \\\n",
    ".withColumnRenamed(\"count(DISTINCT artist)\", \"n_artists\")\n",
    "\n",
    "n_artists.head(3)"
   ]
  },
  {
   "cell_type": "code",
   "execution_count": 36,
   "metadata": {},
   "outputs": [
    {
     "data": {
      "text/plain": [
       "[Row(userId='100010', avg_listen_time=243.421444909091),\n",
       " Row(userId='200002', avg_listen_time=242.91699209302305),\n",
       " Row(userId='125', avg_listen_time=261.13913750000006)]"
      ]
     },
     "execution_count": 36,
     "metadata": {},
     "output_type": "execute_result"
    }
   ],
   "source": [
    "# Feature 2: Average listen time/user\n",
    "avg_listen_time = df_clean.select(\"userId\", \"length\").groupby(\"userId\").agg({\"length\":\"mean\"}) \\\n",
    ".withColumnRenamed(\"avg(length)\", \"avg_listen_time\")\n",
    "\n",
    "avg_listen_time.head(3)"
   ]
  },
  {
   "cell_type": "code",
   "execution_count": 37,
   "metadata": {},
   "outputs": [
    {
     "data": {
      "text/plain": [
       "[Row(userId='100010', total_listen_time=66940.89735000003),\n",
       " Row(userId='200002', total_listen_time=94008.87593999993),\n",
       " Row(userId='125', total_listen_time=2089.1131000000005)]"
      ]
     },
     "execution_count": 37,
     "metadata": {},
     "output_type": "execute_result"
    }
   ],
   "source": [
    "# Feature 3: Total listen time/user\n",
    "total_listen_time = df_clean.select(\"userId\", \"length\").groupby(\"userId\").agg({\"length\":\"sum\"}) \\\n",
    ".withColumnRenamed(\"sum(length)\", \"total_listen_time\")\n",
    "\n",
    "total_listen_time.head(3)"
   ]
  },
  {
   "cell_type": "code",
   "execution_count": 38,
   "metadata": {},
   "outputs": [
    {
     "data": {
      "text/plain": [
       "[Row(userID='100010', lt=4807612000),\n",
       " Row(userID='200002', lt=6054448000),\n",
       " Row(userID='125', lt=6161779000)]"
      ]
     },
     "execution_count": 38,
     "metadata": {},
     "output_type": "execute_result"
    }
   ],
   "source": [
    "# Feature 3: User lifetime\n",
    "user_lifetime = df_clean.select(\"userId\", \"registration\", \"ts\") \\\n",
    ".withColumn('lifetime',(df_clean.ts-df_clean.registration)) \\\n",
    ".groupBy('userID') \\\n",
    ".agg({'lifetime':'max'}) \\\n",
    ".withColumnRenamed('max(lifetime)','lt')\n",
    "\n",
    "user_lifetime.head(3)"
   ]
  },
  {
   "cell_type": "code",
   "execution_count": 39,
   "metadata": {},
   "outputs": [
    {
     "data": {
      "text/plain": [
       "[Row(userId='44', gender=0),\n",
       " Row(userId='46', gender=0),\n",
       " Row(userId='41', gender=0)]"
      ]
     },
     "execution_count": 39,
     "metadata": {},
     "output_type": "execute_result"
    }
   ],
   "source": [
    "# Feature 4: User gender\n",
    "user_gender = df_clean.select(\"userId\", \"gender\").dropDuplicates() \\\n",
    "            .replace([\"F\", \"M\"], [\"0\", \"1\"], \"gender\")\n",
    "user_gender = user_gender.withColumn(\"gender\", user_gender[\"gender\"].cast(IntegerType()))  # cast str to int\n",
    "\n",
    "user_gender.head(3)"
   ]
  },
  {
   "cell_type": "code",
   "execution_count": 40,
   "metadata": {},
   "outputs": [
    {
     "data": {
      "text/plain": [
       "[Row(userId='100021', level=0),\n",
       " Row(userId='200021', level=0),\n",
       " Row(userId='200001', level=0)]"
      ]
     },
     "execution_count": 40,
     "metadata": {},
     "output_type": "execute_result"
    }
   ],
   "source": [
    "# Feature 4: User subscription type  # could be problematic if some users start having both levels\n",
    "subscription_type = df_clean.select(\"userId\", \"level\").dropDuplicates() \\\n",
    "            .replace([\"free\", \"paid\"], [\"0\", \"1\"], \"level\")\n",
    "subscription_type = subscription_type.withColumn(\"level\", subscription_type[\"level\"].cast(IntegerType()))\n",
    "\n",
    "subscription_type.head(3)"
   ]
  },
  {
   "cell_type": "markdown",
   "metadata": {},
   "source": [
    "##### User events"
   ]
  },
  {
   "cell_type": "code",
   "execution_count": 41,
   "metadata": {},
   "outputs": [
    {
     "data": {
      "text/plain": [
       "[Row(userId='100010', avg_songs_session=39.285714285714285),\n",
       " Row(userId='200002', avg_songs_session=64.5),\n",
       " Row(userId='125', avg_songs_session=8.0)]"
      ]
     },
     "execution_count": 41,
     "metadata": {},
     "output_type": "execute_result"
    }
   ],
   "source": [
    "# Feature 5: Number of songs/session\n",
    "avg_songs_session  = df_clean.where('page == \"NextSong\"').groupby(['userId', 'sessionId']).count().groupby('userId') \\\n",
    "            .agg({'count' : 'avg'}) \\\n",
    "            .withColumnRenamed('avg(count)', 'avg_songs_session')\n",
    "\n",
    "avg_songs_session.head(3)"
   ]
  },
  {
   "cell_type": "code",
   "execution_count": 42,
   "metadata": {},
   "outputs": [
    {
     "data": {
      "text/plain": [
       "[Row(userId='124', n_errors=6),\n",
       " Row(userId='51', n_errors=1),\n",
       " Row(userId='7', n_errors=1)]"
      ]
     },
     "execution_count": 42,
     "metadata": {},
     "output_type": "execute_result"
    }
   ],
   "source": [
    "# Feature 5: Number of errors/user\n",
    "n_errors = df_clean.select(\"userId\", \"page\").where(df_clean.page == \"Error\").groupby(\"userId\").count() \\\n",
    ".withColumnRenamed(\"count\", \"n_errors\")\n",
    "\n",
    "n_errors.head(3)"
   ]
  },
  {
   "cell_type": "code",
   "execution_count": 43,
   "metadata": {},
   "outputs": [
    {
     "data": {
      "text/plain": [
       "[Row(userId='100010', n_likes=17),\n",
       " Row(userId='200002', n_likes=21),\n",
       " Row(userId='51', n_likes=100)]"
      ]
     },
     "execution_count": 43,
     "metadata": {},
     "output_type": "execute_result"
    }
   ],
   "source": [
    "# Feature 5: Number of likes/user\n",
    "n_likes = df_clean.select(\"userId\", \"page\").where(df_clean.page == \"Thumbs Up\").groupby(\"userId\").count() \\\n",
    ".withColumnRenamed(\"count\", \"n_likes\")\n",
    "\n",
    "n_likes.head(3)"
   ]
  },
  {
   "cell_type": "code",
   "execution_count": 44,
   "metadata": {},
   "outputs": [
    {
     "data": {
      "text/plain": [
       "[Row(userId='100010', n_dislikes=5),\n",
       " Row(userId='200002', n_dislikes=6),\n",
       " Row(userId='51', n_dislikes=21)]"
      ]
     },
     "execution_count": 44,
     "metadata": {},
     "output_type": "execute_result"
    }
   ],
   "source": [
    "# Feature 5: Number of dislikes/user\n",
    "n_dislikes = df_clean.select(\"userId\", \"page\").where(df_clean.page == \"Thumbs Down\").groupby(\"userId\").count() \\\n",
    ".withColumnRenamed(\"count\", \"n_dislikes\")\n",
    "\n",
    "n_dislikes.head(3)"
   ]
  },
  {
   "cell_type": "code",
   "execution_count": 45,
   "metadata": {},
   "outputs": [
    {
     "data": {
      "text/plain": [
       "[Row(userId='100010', n_add_playlist=7),\n",
       " Row(userId='200002', n_add_playlist=8),\n",
       " Row(userId='51', n_add_playlist=52)]"
      ]
     },
     "execution_count": 45,
     "metadata": {},
     "output_type": "execute_result"
    }
   ],
   "source": [
    "# Feature 5: Number of songs added to playlist/user\n",
    "n_add_playlist = df_clean.select(\"userId\", \"page\").where(df_clean.page == \"Add to Playlist\").groupby(\"userId\").count() \\\n",
    ".withColumnRenamed(\"count\", \"n_add_playlist\")\n",
    "\n",
    "n_add_playlist.head(3)"
   ]
  },
  {
   "cell_type": "code",
   "execution_count": 46,
   "metadata": {},
   "outputs": [
    {
     "data": {
      "text/plain": [
       "[Row(userId='100010', n_ads=52),\n",
       " Row(userId='200002', n_ads=7),\n",
       " Row(userId='125', n_ads=1)]"
      ]
     },
     "execution_count": 46,
     "metadata": {},
     "output_type": "execute_result"
    }
   ],
   "source": [
    "# Feature 5: Number of ads/user\n",
    "n_ads = df_clean.select(\"userId\", \"page\").where(df_clean.page == \"Roll Advert\").groupby(\"userId\").count() \\\n",
    ".withColumnRenamed(\"count\", \"n_ads\")\n",
    "\n",
    "n_ads.head(3)"
   ]
  },
  {
   "cell_type": "code",
   "execution_count": 47,
   "metadata": {},
   "outputs": [
    {
     "data": {
      "text/plain": [
       "[Row(userId='100010', n_help=2),\n",
       " Row(userId='200002', n_help=2),\n",
       " Row(userId='51', n_help=12)]"
      ]
     },
     "execution_count": 47,
     "metadata": {},
     "output_type": "execute_result"
    }
   ],
   "source": [
    "# Feature 5: Number of help page access/user\n",
    "n_help = df_clean.select(\"userId\", \"page\").where(df_clean.page == \"Help\").groupby(\"userId\").count() \\\n",
    ".withColumnRenamed(\"count\", \"n_help\")\n",
    "\n",
    "n_help.head(3)"
   ]
  },
  {
   "cell_type": "markdown",
   "metadata": {},
   "source": [
    "##### Churn label"
   ]
  },
  {
   "cell_type": "code",
   "execution_count": 48,
   "metadata": {},
   "outputs": [],
   "source": [
    "label = df_clean.select(\"userId\", col(\"user_cancel\").alias(\"label\")).dropDuplicates()  # the individual user label"
   ]
  },
  {
   "cell_type": "markdown",
   "metadata": {},
   "source": [
    "##### Feature datasset"
   ]
  },
  {
   "cell_type": "code",
   "execution_count": 49,
   "metadata": {},
   "outputs": [],
   "source": [
    "df_features  = n_songs_played.join(n_artists, 'userID', 'outer') \\\n",
    "    .join(avg_listen_time, 'userID', 'outer') \\\n",
    "    .join(total_listen_time, 'userID', 'outer') \\\n",
    "    .join(user_lifetime, 'userID', 'outer') \\\n",
    "    .join(user_gender, 'userID', 'outer') \\\n",
    "    .join(subscription_type, 'userID', 'outer') \\\n",
    "    .join(avg_songs_session, 'userID', 'outer') \\\n",
    "    .join(n_errors, 'userID', 'outer') \\\n",
    "    .join(n_likes, 'userID', 'outer') \\\n",
    "    .join(n_dislikes, 'userID', 'outer') \\\n",
    "    .join(n_add_playlist, 'userID', 'outer') \\\n",
    "    .join(n_ads, 'userID', 'outer') \\\n",
    "    .join(n_help, 'userID', 'outer') \\\n",
    "    .join(label, 'userID', 'outer') \\\n",
    "    .drop('userID') \\\n",
    "    .fillna(0)"
   ]
  },
  {
   "cell_type": "code",
   "execution_count": 50,
   "metadata": {},
   "outputs": [
    {
     "data": {
      "text/plain": [
       "[Row(n_songs_played=381, n_artists=252, avg_listen_time=243.421444909091, total_listen_time=66940.89735000003, lt=4807612000, gender=0, level=0, avg_songs_session=39.285714285714285, n_errors=0, n_likes=17, n_dislikes=5, n_add_playlist=7, n_ads=52, n_help=2, label=0),\n",
       " Row(n_songs_played=474, n_artists=339, avg_listen_time=242.91699209302305, total_listen_time=94008.87593999993, lt=6054448000, gender=1, level=0, avg_songs_session=64.5, n_errors=0, n_likes=21, n_dislikes=6, n_add_playlist=8, n_ads=7, n_help=2, label=0)]"
      ]
     },
     "execution_count": 50,
     "metadata": {},
     "output_type": "execute_result"
    }
   ],
   "source": [
    "df_features.head(2)"
   ]
  },
  {
   "cell_type": "code",
   "execution_count": 51,
   "metadata": {},
   "outputs": [
    {
     "name": "stdout",
     "output_type": "stream",
     "text": [
      "root\n",
      " |-- n_songs_played: long (nullable = true)\n",
      " |-- n_artists: long (nullable = true)\n",
      " |-- avg_listen_time: double (nullable = false)\n",
      " |-- total_listen_time: double (nullable = false)\n",
      " |-- lt: long (nullable = true)\n",
      " |-- gender: integer (nullable = true)\n",
      " |-- level: integer (nullable = true)\n",
      " |-- avg_songs_session: double (nullable = false)\n",
      " |-- n_errors: long (nullable = true)\n",
      " |-- n_likes: long (nullable = true)\n",
      " |-- n_dislikes: long (nullable = true)\n",
      " |-- n_add_playlist: long (nullable = true)\n",
      " |-- n_ads: long (nullable = true)\n",
      " |-- n_help: long (nullable = true)\n",
      " |-- label: integer (nullable = true)\n",
      "\n"
     ]
    }
   ],
   "source": [
    "df_features.printSchema()"
   ]
  },
  {
   "cell_type": "markdown",
   "metadata": {},
   "source": [
    "#### Vectorizing & scaling the features dataset"
   ]
  },
  {
   "cell_type": "code",
   "execution_count": 52,
   "metadata": {},
   "outputs": [],
   "source": [
    "# convert feature df into numerical vectors\n",
    "vector_assembler = VectorAssembler(inputCols=df_features.columns[:-1],  # without the label\n",
    "                                  outputCol=\"FeatVec\")  # define vectorizer\n",
    "\n",
    "df_features = vector_assembler.transform(df_features)  # transform the df"
   ]
  },
  {
   "cell_type": "code",
   "execution_count": 53,
   "metadata": {},
   "outputs": [],
   "source": [
    "# scale features to the same scale\n",
    "scaler = StandardScaler(inputCol=\"FeatVec\", outputCol=\"features\",\n",
    "                       withStd=True)\n",
    "scalerModel = scaler.fit(df_features)  # fit the scaler\n",
    "\n",
    "df_features = scalerModel.transform(df_features)  # transform the df"
   ]
  },
  {
   "cell_type": "code",
   "execution_count": 54,
   "metadata": {},
   "outputs": [
    {
     "name": "stdout",
     "output_type": "stream",
     "text": [
      "( 360 , 17 )\n"
     ]
    }
   ],
   "source": [
    "print_shape(df_features)"
   ]
  },
  {
   "cell_type": "code",
   "execution_count": 55,
   "metadata": {},
   "outputs": [
    {
     "data": {
      "text/plain": [
       "[Row(n_songs_played=381, n_artists=252, avg_listen_time=243.421444909091, total_listen_time=66940.89735000003, lt=4807612000, gender=0, level=0, avg_songs_session=39.285714285714285, n_errors=0, n_likes=17, n_dislikes=5, n_add_playlist=7, n_ads=52, n_help=2, label=0, FeatVec=DenseVector([381.0, 252.0, 243.4214, 66940.8974, 4807612000.0, 0.0, 0.0, 39.2857, 0.0, 17.0, 5.0, 7.0, 52.0, 2.0]), features=DenseVector([0.2777, 0.4154, 46.9764, 0.2356, 1.4738, 0.0, 0.0, 0.9634, 0.0, 0.2505, 0.3698, 0.2075, 2.3295, 0.2688]))]"
      ]
     },
     "execution_count": 55,
     "metadata": {},
     "output_type": "execute_result"
    }
   ],
   "source": [
    "df_features.head(1)"
   ]
  },
  {
   "cell_type": "markdown",
   "metadata": {},
   "source": [
    "# Modeling\n",
    "Split the full dataset into train, test, and validation sets. Test out several of the machine learning methods you learned. Evaluate the accuracy of the various models, tuning parameters as necessary. Determine your winning model based on test accuracy and report results on the validation set. Since the churned users are a fairly small subset, I suggest using F1 score as the metric to optimize."
   ]
  },
  {
   "cell_type": "code",
   "execution_count": 56,
   "metadata": {},
   "outputs": [],
   "source": [
    "def evaluate_model(results, metric):\n",
    "    \"\"\"\n",
    "    Method which evaluates a trained model, given a supported metric and the prediction df.\n",
    "    \n",
    "    Args:\n",
    "        results: pyspark.DataFrame; needs the \"prediction\" and \"label\" cols\n",
    "        metric: str;\n",
    "        \n",
    "    Returns:\n",
    "        None\n",
    "    \"\"\"\n",
    "    \n",
    "    predictionAndLabels = results.select(\"prediction\", \"label\")  # get only the prediction and label\n",
    "    \n",
    "    evaluator = MulticlassClassificationEvaluator(metricName=metric)  # define evaluator object\n",
    "\n",
    "    print(metric + \": \" + str(evaluator.evaluate(predictionAndLabels)))  # prin result"
   ]
  },
  {
   "cell_type": "code",
   "execution_count": 57,
   "metadata": {},
   "outputs": [],
   "source": [
    "# split the dataset into train, validation and test sets\n",
    "train, validation, test = df_features.randomSplit([0.7, 0.1, 0.2], seed=42)"
   ]
  },
  {
   "cell_type": "code",
   "execution_count": 58,
   "metadata": {},
   "outputs": [
    {
     "name": "stdout",
     "output_type": "stream",
     "text": [
      "( 248 , 17 )\n"
     ]
    }
   ],
   "source": [
    "print_shape(train)"
   ]
  },
  {
   "cell_type": "code",
   "execution_count": 59,
   "metadata": {},
   "outputs": [
    {
     "name": "stdout",
     "output_type": "stream",
     "text": [
      "( 45 , 17 )\n"
     ]
    }
   ],
   "source": [
    "print_shape(validation)"
   ]
  },
  {
   "cell_type": "code",
   "execution_count": 60,
   "metadata": {},
   "outputs": [
    {
     "name": "stdout",
     "output_type": "stream",
     "text": [
      "( 67 , 17 )\n"
     ]
    }
   ],
   "source": [
    "print_shape(test)"
   ]
  },
  {
   "cell_type": "markdown",
   "metadata": {},
   "source": [
    "#### Logistic regression"
   ]
  },
  {
   "cell_type": "code",
   "execution_count": 61,
   "metadata": {},
   "outputs": [
    {
     "data": {
      "text/plain": [
       "[0.7198086027033396, 0.6905749390875249, 0.6860260224201994]"
      ]
     },
     "execution_count": 61,
     "metadata": {},
     "output_type": "execute_result"
    }
   ],
   "source": [
    "# define classification model\n",
    "log_reg = LogisticRegression(maxIter=10, regParam=0.0)\n",
    "\n",
    "# define paramteres to check\n",
    "param_grid = ParamGridBuilder() \\\n",
    "            .addGrid(log_reg.regParam, [.0, .05, .1]) \\\n",
    "            .build()\n",
    "\n",
    "# define the cross validator\n",
    "cross_val_lr = CrossValidator(estimator=log_reg,\n",
    "                          estimatorParamMaps=param_grid,\n",
    "                          evaluator=MulticlassClassificationEvaluator(metricName=\"f1\"),\n",
    "                          numFolds=3)\n",
    "\n",
    "cv_model_lr = cross_val_lr.fit(train)  # run cross val\n",
    "\n",
    "cv_model_lr.avgMetrics  # print the F1 scores"
   ]
  },
  {
   "cell_type": "code",
   "execution_count": 62,
   "metadata": {},
   "outputs": [
    {
     "name": "stdout",
     "output_type": "stream",
     "text": [
      "accuracy: 0.7611940298507462\n",
      "f1: 0.6824299554857293\n"
     ]
    }
   ],
   "source": [
    "results_lr = cv_model_lr.bestModel.transform(test)  # compute accuracy on the test set\n",
    "\n",
    "evaluate_model(results_lr, metric=\"accuracy\")  # run eval method for accuracy\n",
    "evaluate_model(results_lr, metric=\"f1\")  # run eval method for f1  "
   ]
  },
  {
   "cell_type": "markdown",
   "metadata": {},
   "source": [
    "#### Neural Net (Multi-layer perceptron)"
   ]
  },
  {
   "cell_type": "code",
   "execution_count": 63,
   "metadata": {},
   "outputs": [
    {
     "data": {
      "text/plain": [
       "[0.7454344698363837, 0.7454344698363837]"
      ]
     },
     "execution_count": 63,
     "metadata": {},
     "output_type": "execute_result"
    }
   ],
   "source": [
    "# define classification model\n",
    "layers = [14, 10, 6, 2]  # define number of layers\n",
    "neural_net = MultilayerPerceptronClassifier(featuresCol=\"features\", labelCol=\"label\",\n",
    "                    layers=layers,\n",
    "                    blockSize=32,\n",
    "                    solver='l-bfgs',\n",
    "                    stepSize=0.03,\n",
    "                    maxIter=40, seed=42)\n",
    "\n",
    "# define paramteres to check\n",
    "param_grid_nn = ParamGridBuilder() \\\n",
    "            .addGrid(neural_net.stepSize, [.01, .1]) \\\n",
    "            .build()\n",
    "\n",
    "# define the cross validator\n",
    "cross_val_nn = CrossValidator(estimator=neural_net,\n",
    "                          estimatorParamMaps=param_grid_nn,\n",
    "                          evaluator=MulticlassClassificationEvaluator(metricName=\"f1\"),\n",
    "                          numFolds=3)\n",
    "\n",
    "cv_model_nn = cross_val_nn.fit(train)  # run cross val\n",
    "\n",
    "cv_model_nn.avgMetrics  # print the F1 scores"
   ]
  },
  {
   "cell_type": "code",
   "execution_count": 64,
   "metadata": {},
   "outputs": [
    {
     "name": "stdout",
     "output_type": "stream",
     "text": [
      "accuracy: 0.8059701492537313\n",
      "f1: 0.7890204151655517\n"
     ]
    }
   ],
   "source": [
    "results_nn = cv_model_nn.bestModel.transform(test)  # compute accuracy on the test set\n",
    "\n",
    "evaluate_model(results_nn, metric=\"accuracy\")  # run eval method for accuracy\n",
    "evaluate_model(results_nn, metric=\"f1\")  # run eval method for f1  "
   ]
  },
  {
   "cell_type": "markdown",
   "metadata": {},
   "source": [
    "#### Gradient-bossted trees"
   ]
  },
  {
   "cell_type": "code",
   "execution_count": 65,
   "metadata": {},
   "outputs": [
    {
     "data": {
      "text/plain": [
       "[0.825151081119365, 0.828349429600205]"
      ]
     },
     "execution_count": 65,
     "metadata": {},
     "output_type": "execute_result"
    }
   ],
   "source": [
    "# define classification model\n",
    "gbt = GBTClassifier(featuresCol=\"features\", labelCol=\"label\",\n",
    "                    maxDepth=6, maxIter=10, seed=42)\n",
    "\n",
    "# define paramteres to check\n",
    "param_grid_gbt = ParamGridBuilder() \\\n",
    "            .addGrid(gbt.maxDepth, [4, 5]) \\\n",
    "            .build()\n",
    "\n",
    "# define the cross validator\n",
    "cross_val_gbt = CrossValidator(estimator=gbt,\n",
    "                          estimatorParamMaps=param_grid_gbt,\n",
    "                          evaluator=MulticlassClassificationEvaluator(metricName=\"f1\"),\n",
    "                          numFolds=3)\n",
    "\n",
    "cv_model_gbt = cross_val_gbt.fit(train)  # run cross val\n",
    "\n",
    "cv_model_gbt.avgMetrics  # print the F1 scores"
   ]
  },
  {
   "cell_type": "code",
   "execution_count": 66,
   "metadata": {},
   "outputs": [
    {
     "name": "stdout",
     "output_type": "stream",
     "text": [
      "accuracy: 0.8059701492537313\n",
      "f1: 0.7950320430419154\n"
     ]
    }
   ],
   "source": [
    "results_gbt = cv_model_gbt.bestModel.transform(test)  # compute accuracy on the test set\n",
    "\n",
    "evaluate_model(results_gbt, metric=\"accuracy\")  # run eval method for accuracy\n",
    "evaluate_model(results_gbt, metric=\"f1\")  # run eval method for f1  "
   ]
  },
  {
   "cell_type": "markdown",
   "metadata": {},
   "source": [
    "##### Validation results"
   ]
  },
  {
   "cell_type": "code",
   "execution_count": 67,
   "metadata": {},
   "outputs": [
    {
     "name": "stdout",
     "output_type": "stream",
     "text": [
      "accuracy: 0.7777777777777778\n",
      "f1: 0.7857142857142856\n"
     ]
    }
   ],
   "source": [
    "validation_gbt = cv_model_gbt.bestModel.transform(validation)  # compute accuracy on the test set\n",
    "\n",
    "evaluate_model(validation_gbt, metric=\"accuracy\")  # run eval method for accuracy\n",
    "evaluate_model(validation_gbt, metric=\"f1\")  # run eval method for f1  "
   ]
  },
  {
   "cell_type": "markdown",
   "metadata": {},
   "source": [
    "##### Feature importance for GBT"
   ]
  },
  {
   "cell_type": "code",
   "execution_count": 68,
   "metadata": {},
   "outputs": [
    {
     "data": {
      "text/plain": [
       "SparseVector(14, {0: 0.0875, 1: 0.0162, 2: 0.1465, 3: 0.0024, 4: 0.2503, 5: 0.0497, 7: 0.1145, 8: 0.0223, 9: 0.0345, 10: 0.0731, 11: 0.0459, 12: 0.1513, 13: 0.0057})"
      ]
     },
     "execution_count": 68,
     "metadata": {},
     "output_type": "execute_result"
    }
   ],
   "source": [
    "cv_model_gbt.bestModel.featureImportances  # feature importance determined by the GBT model"
   ]
  },
  {
   "cell_type": "code",
   "execution_count": 89,
   "metadata": {},
   "outputs": [
    {
     "data": {
      "image/png": "[encoded data removed]",
      "text/plain": [
       "<Figure size 640x480 with 1 Axes>"
      ]
     },
     "metadata": {},
     "output_type": "display_data"
    }
   ],
   "source": [
    "gbt_feature_importance = [i for i in cv_model_gbt.bestModel.featureImportances]  # store the values in a list\n",
    "gbt_feature_importance.sort(reverse=False)  # sort the list\n",
    "\n",
    "gbt_feature_names = df_features.columns[:-3]  # store the feature names\n",
    "\n",
    "y_pos = np.arange(len(gbt_feature_names))  # set ticks\n",
    " \n",
    "plt.barh(y_pos, gbt_feature_importance, align='center')  # plot feature importance values\n",
    "\n",
    "# describe plot\n",
    "plt.yticks(y_pos, gbt_feature_names)\n",
    "plt.xlabel('Feature importance score')\n",
    "plt.title('GBT Feature Importance')\n",
    "\n",
    "plt.savefig('GBT feature Importance.png', dpi=300, bbox_inches='tight')  # save the figure as png\n",
    "\n",
    "plt.show()"
   ]
  },
  {
   "cell_type": "markdown",
   "metadata": {},
   "source": [
    "# Final Steps\n",
    "Clean up your code, adding comments and renaming variables to make the code easier to read and maintain. Refer to the Spark Project Overview page and Data Scientist Capstone Project Rubric to make sure you are including all components of the capstone project and meet all expectations. Remember, this includes thorough documentation in a README file in a Github repository, as well as a web app or blog post."
   ]
  }
 ],
 "metadata": {
  "kernelspec": {
   "display_name": "PySpark",
   "language": "python",
   "name": "pyspark"
  },
  "language_info": {
   "codemirror_mode": {
    "name": "ipython",
    "version": 3
   },
   "file_extension": ".py",
   "mimetype": "text/x-python",
   "name": "python",
   "nbconvert_exporter": "python",
   "pygments_lexer": "ipython3",
   "version": "3.7.11"
  }
 },
 "nbformat": 4,
 "nbformat_minor": 4
}
